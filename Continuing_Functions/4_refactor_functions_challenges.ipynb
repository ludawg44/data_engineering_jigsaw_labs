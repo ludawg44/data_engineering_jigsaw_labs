{
  "nbformat": 4,
  "nbformat_minor": 0,
  "metadata": {
    "kernelspec": {
      "display_name": "Python 3",
      "language": "python",
      "name": "python3"
    },
    "language_info": {
      "codemirror_mode": {
        "name": "ipython",
        "version": 3
      },
      "file_extension": ".py",
      "mimetype": "text/x-python",
      "name": "python",
      "nbconvert_exporter": "python",
      "pygments_lexer": "ipython3",
      "version": "3.8.3"
    },
    "colab": {
      "name": "Copy of 4-refactor-functions-challenges.ipynb",
      "provenance": [],
      "include_colab_link": true
    }
  },
  "cells": [
    {
      "cell_type": "markdown",
      "metadata": {
        "id": "view-in-github",
        "colab_type": "text"
      },
      "source": [
        "<a href=\"https://colab.research.google.com/github/ludawg44/data_engineering_jigsaw_labs/blob/main/Continuing_Functions/4_refactor_functions_challenges.ipynb\" target=\"_parent\"><img src=\"https://colab.research.google.com/assets/colab-badge.svg\" alt=\"Open In Colab\"/></a>"
      ]
    },
    {
      "cell_type": "markdown",
      "metadata": {
        "id": "1FW9uy8mrluO"
      },
      "source": [
        "# Refactor with Functions Challenges"
      ]
    },
    {
      "cell_type": "markdown",
      "metadata": {
        "id": "ISyK7CzQrluP"
      },
      "source": [
        "### Introduction"
      ]
    },
    {
      "cell_type": "markdown",
      "metadata": {
        "id": "Tid_ytIcrluP"
      },
      "source": [
        "Let's take the code from our previous movies lab, and see if we can make our code more flexible with functions."
      ]
    },
    {
      "cell_type": "markdown",
      "metadata": {
        "id": "_4ZtplRnrluQ"
      },
      "source": [
        "### Function Changes"
      ]
    },
    {
      "cell_type": "markdown",
      "metadata": {
        "id": "O0i7eYf2rluQ"
      },
      "source": [
        "> Load the data by pressing `shift + return` below."
      ]
    },
    {
      "cell_type": "code",
      "metadata": {
        "id": "I1Jgulb7rluR"
      },
      "source": [
        "import pandas as pd\n",
        "url = \"https://raw.githubusercontent.com/jigsawlabs-student/mod-1-a-data-structures/master/4-functions/imdb_movies.csv\"\n",
        "df = pd.read_csv(url)\n",
        "movies = df.to_dict('records')"
      ],
      "execution_count": null,
      "outputs": []
    },
    {
      "cell_type": "markdown",
      "metadata": {
        "id": "T21jVzHSrluV"
      },
      "source": [
        "1. `movies_since`"
      ]
    },
    {
      "cell_type": "markdown",
      "metadata": {
        "id": "8Tjr-OqYrluW"
      },
      "source": [
        "Write a method called `movies_since` that will return only the movies after a certain year."
      ]
    },
    {
      "cell_type": "code",
      "metadata": {
        "id": "7Ohwhy1jrluW"
      },
      "source": [
        "def movies_since():\n",
        "  return [movie for movie in movies if movie['year'] >= 2015]"
      ],
      "execution_count": null,
      "outputs": []
    },
    {
      "cell_type": "markdown",
      "metadata": {
        "id": "AnMJhXXrrluY"
      },
      "source": [
        "2. `find_by`"
      ]
    },
    {
      "cell_type": "markdown",
      "metadata": {
        "id": "Aj7MvUdrrluY"
      },
      "source": [
        "In the last lesson, we also had a `find_by_genre` method. \n",
        "\n",
        "```python\n",
        "\n",
        "def find_by_genre(movies, genre_name):\n",
        "    genre_name = genre_name.title()\n",
        "    return [movie for movie in movies \n",
        "    if movie['genre'] == genre_name]\n",
        "```\n",
        "\n",
        "Let's say that we wanted the ability to return movies with matching year, genre, or title, etc.  Change the function to so that we return movies where checks if any attribute matches."
      ]
    },
    {
      "cell_type": "code",
      "metadata": {
        "id": "TAziq1VJsqGz",
        "outputId": "d2a74be4-04d9-4e60-9914-fcde6b297ba0",
        "colab": {
          "base_uri": "https://localhost:8080/",
          "height": 134
        }
      },
      "source": [
        "movies[0]"
      ],
      "execution_count": null,
      "outputs": [
        {
          "output_type": "execute_result",
          "data": {
            "text/plain": [
              "{'budget': 237000000,\n",
              " 'genre': 'Action',\n",
              " 'month': 12,\n",
              " 'revenue': 2787965087,\n",
              " 'runtime': 162.0,\n",
              " 'title': 'Avatar',\n",
              " 'year': 2009}"
            ]
          },
          "metadata": {
            "tags": []
          },
          "execution_count": 7
        }
      ]
    },
    {
      "cell_type": "code",
      "metadata": {
        "id": "vcSM4ighrluZ"
      },
      "source": [
        "def find_by(movies, category, value):\n",
        "    return [movie for movie in movies if movie[category] == value]\n",
        "\n",
        "# find_by(movies, 'year', 2016)"
      ],
      "execution_count": null,
      "outputs": []
    },
    {
      "cell_type": "code",
      "metadata": {
        "id": "jVkObOsnuXjy",
        "outputId": "bc152ac5-fca4-4151-d02e-45dc171a6c4e",
        "colab": {
          "base_uri": "https://localhost:8080/",
          "height": 370
        }
      },
      "source": [
        "# test\n",
        "find_2009_movies = find_by(movies, 'year', 2009)\n",
        "find_2009_movies[:3]"
      ],
      "execution_count": null,
      "outputs": [
        {
          "output_type": "execute_result",
          "data": {
            "text/plain": [
              "[{'budget': 237000000,\n",
              "  'genre': 'Action',\n",
              "  'month': 12,\n",
              "  'revenue': 2787965087,\n",
              "  'runtime': 162.0,\n",
              "  'title': 'Avatar',\n",
              "  'year': 2009},\n",
              " {'budget': 250000000,\n",
              "  'genre': 'Adventure',\n",
              "  'month': 7,\n",
              "  'revenue': 933959197,\n",
              "  'runtime': 153.0,\n",
              "  'title': 'Harry Potter and the Half-Blood Prince',\n",
              "  'year': 2009},\n",
              " {'budget': 150000000,\n",
              "  'genre': 'Science Fiction',\n",
              "  'month': 6,\n",
              "  'revenue': 836297228,\n",
              "  'runtime': 150.0,\n",
              "  'title': 'Transformers: Revenge of the Fallen',\n",
              "  'year': 2009}]"
            ]
          },
          "metadata": {
            "tags": []
          },
          "execution_count": 12
        }
      ]
    },
    {
      "cell_type": "markdown",
      "metadata": {
        "id": "KrGLiG3Brlub"
      },
      "source": [
        "3. Rewrite `find_by_genre` \n",
        "\n",
        "Now use the `find_by` method to rewrite the `find_by_genre` method.  The `find_by_genre` method should be case insensitive."
      ]
    },
    {
      "cell_type": "code",
      "metadata": {
        "id": "4--AXtvRvP6N"
      },
      "source": [
        "def find_by_genre(movies, value):\n",
        "  return find_by(movies, 'genre', value)"
      ],
      "execution_count": null,
      "outputs": []
    },
    {
      "cell_type": "code",
      "metadata": {
        "id": "b_GbwBEvvqgR",
        "outputId": "b456717d-6545-4463-be8e-e7164ed2ac36",
        "colab": {
          "base_uri": "https://localhost:8080/",
          "height": 370
        }
      },
      "source": [
        "# test\n",
        "find_by_genre(movies, 'Science Fiction')[:3]"
      ],
      "execution_count": null,
      "outputs": [
        {
          "output_type": "execute_result",
          "data": {
            "text/plain": [
              "[{'budget': 220000000,\n",
              "  'genre': 'Science Fiction',\n",
              "  'month': 4,\n",
              "  'revenue': 1519557910,\n",
              "  'runtime': 143.0,\n",
              "  'title': 'The Avengers',\n",
              "  'year': 2012},\n",
              " {'budget': 150000000,\n",
              "  'genre': 'Science Fiction',\n",
              "  'month': 6,\n",
              "  'revenue': 836297228,\n",
              "  'runtime': 150.0,\n",
              "  'title': 'Transformers: Revenge of the Fallen',\n",
              "  'year': 2009},\n",
              " {'budget': 210000000,\n",
              "  'genre': 'Science Fiction',\n",
              "  'month': 6,\n",
              "  'revenue': 1091405097,\n",
              "  'runtime': 165.0,\n",
              "  'title': 'Transformers: Age of Extinction',\n",
              "  'year': 2014}]"
            ]
          },
          "metadata": {
            "tags": []
          },
          "execution_count": 16
        }
      ]
    },
    {
      "cell_type": "markdown",
      "metadata": {
        "id": "sIJXT6NErlub"
      },
      "source": [
        "4. `top` function"
      ]
    },
    {
      "cell_type": "markdown",
      "metadata": {
        "id": "FCZgcXkvrluc"
      },
      "source": [
        "In the previous lesson, we wrote code to select the top 100 movies by revenue."
      ]
    },
    {
      "cell_type": "code",
      "metadata": {
        "id": "3nx7Gld3rluc"
      },
      "source": [
        "top_100_revenue = sorted(movies,\n",
        "       key = lambda movie: movie['revenue'],\n",
        "       reverse = True)[:100]"
      ],
      "execution_count": null,
      "outputs": []
    },
    {
      "cell_type": "markdown",
      "metadata": {
        "id": "0uScqvxPrluf"
      },
      "source": [
        "Write a method called `top` that: \n",
        "1. Returns the top 100 movies by any category\n",
        "    * For example, it should work for budget as well\n",
        "2. Limits to the top 100 as the default, but allows for specifying any limit.\n",
        "3. Has an argument `desc` that by default is `True` and sorts from top to bottom. "
      ]
    },
    {
      "cell_type": "code",
      "metadata": {
        "id": "IDNVK_dSrluf"
      },
      "source": [
        "def top(movies, category, limit = 100, desc = True):\n",
        "  return sorted(movies, key = lambda movie: movie[category], reverse = desc)[:limit]"
      ],
      "execution_count": null,
      "outputs": []
    },
    {
      "cell_type": "code",
      "metadata": {
        "id": "uDAxVQxixPf5",
        "outputId": "ac178723-b14f-4eed-ded4-2a0688f546f1",
        "colab": {
          "base_uri": "https://localhost:8080/",
          "height": 252
        }
      },
      "source": [
        "top(movies,'runtime', 2)"
      ],
      "execution_count": null,
      "outputs": [
        {
          "output_type": "execute_result",
          "data": {
            "text/plain": [
              "[{'budget': 0,\n",
              "  'genre': nan,\n",
              "  'month': 10,\n",
              "  'revenue': 25000000,\n",
              "  'runtime': 254.0,\n",
              "  'title': 'Gettysburg',\n",
              "  'year': 1993},\n",
              " {'budget': 31115000,\n",
              "  'genre': 'Drama',\n",
              "  'month': 6,\n",
              "  'revenue': 71000000,\n",
              "  'runtime': 248.0,\n",
              "  'title': 'Cleopatra',\n",
              "  'year': 1963}]"
            ]
          },
          "metadata": {
            "tags": []
          },
          "execution_count": 28
        }
      ]
    },
    {
      "cell_type": "markdown",
      "metadata": {
        "id": "Zk8Z8NRmrlui"
      },
      "source": [
        "5. `movies_from`"
      ]
    },
    {
      "cell_type": "markdown",
      "metadata": {
        "id": "HnmziJDPrlui"
      },
      "source": [
        "What if we wanted a method that could allow us to find movies only before a year, or only after a year, or both."
      ]
    },
    {
      "cell_type": "code",
      "metadata": {
        "id": "A-TxE-LvzvMW",
        "outputId": "065cfd92-c190-4848-a220-ab9ec3ecef43",
        "colab": {
          "base_uri": "https://localhost:8080/",
          "height": 134
        }
      },
      "source": [
        "movies[0]"
      ],
      "execution_count": null,
      "outputs": [
        {
          "output_type": "execute_result",
          "data": {
            "text/plain": [
              "{'budget': 237000000,\n",
              " 'genre': 'Action',\n",
              " 'month': 12,\n",
              " 'revenue': 2787965087,\n",
              " 'runtime': 162.0,\n",
              " 'title': 'Avatar',\n",
              " 'year': 2009}"
            ]
          },
          "metadata": {
            "tags": []
          },
          "execution_count": 44
        }
      ]
    },
    {
      "cell_type": "code",
      "metadata": {
        "id": "RecOoI6v01cX"
      },
      "source": [
        "def year_filter(movies, year, filter): \n",
        "  movies_list = []\n",
        "  for movie in movies:\n",
        "    if filter == 'before': \n",
        "      if movie['year'] < year:\n",
        "        movies_list.append(movie)\n",
        "    elif filter == 'after':\n",
        "      if movie['year'] > year:\n",
        "        movies_list.append(movie)\n",
        "    elif filter == 'both':\n",
        "      movies_list.append(movie)\n",
        "  return movies_list"
      ],
      "execution_count": null,
      "outputs": []
    },
    {
      "cell_type": "code",
      "metadata": {
        "id": "VXL1Ov1z2Y-t",
        "outputId": "bc2b80c9-2b6e-4e87-ae36-21add7aea756",
        "colab": {
          "base_uri": "https://localhost:8080/",
          "height": 370
        }
      },
      "source": [
        "both_test = year_filter(movies, 2009, 'both')\n",
        "both_test[:3]"
      ],
      "execution_count": null,
      "outputs": [
        {
          "output_type": "execute_result",
          "data": {
            "text/plain": [
              "[{'budget': 237000000,\n",
              "  'genre': 'Action',\n",
              "  'month': 12,\n",
              "  'revenue': 2787965087,\n",
              "  'runtime': 162.0,\n",
              "  'title': 'Avatar',\n",
              "  'year': 2009},\n",
              " {'budget': 300000000,\n",
              "  'genre': 'Adventure',\n",
              "  'month': 5,\n",
              "  'revenue': 961000000,\n",
              "  'runtime': 169.0,\n",
              "  'title': \"Pirates of the Caribbean: At World's End\",\n",
              "  'year': 2007},\n",
              " {'budget': 245000000,\n",
              "  'genre': 'Action',\n",
              "  'month': 10,\n",
              "  'revenue': 880674609,\n",
              "  'runtime': 148.0,\n",
              "  'title': 'Spectre',\n",
              "  'year': 2015}]"
            ]
          },
          "metadata": {
            "tags": []
          },
          "execution_count": 48
        }
      ]
    },
    {
      "cell_type": "code",
      "metadata": {
        "id": "RyvCmR53rluj"
      },
      "source": [
        "def movies_from(movies, year, filter):\n",
        "  return [movie for movie in movies if filter == 'before' ]\n",
        "\n",
        "movies_from(movies, 2009, after)\n",
        "\n",
        "# Not complete!"
      ],
      "execution_count": null,
      "outputs": []
    },
    {
      "cell_type": "markdown",
      "metadata": {
        "id": "VDZEPwNUrlul"
      },
      "source": [
        "Then write the code to check your work below."
      ]
    },
    {
      "cell_type": "markdown",
      "metadata": {
        "id": "lEhwhaTZrlul"
      },
      "source": [
        "### Summary"
      ]
    },
    {
      "cell_type": "markdown",
      "metadata": {
        "id": "fgqAQ5NNrlum"
      },
      "source": [
        "In this lesson, we practiced making our code more flexible with functions.  Notice that to do so, we identified the values that we're hard coded and turned them into arguments.  This made our hard-coded values, and thus the functionality of our code, more flexible."
      ]
    }
  ]
}