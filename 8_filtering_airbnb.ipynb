{
  "nbformat": 4,
  "nbformat_minor": 0,
  "metadata": {
    "kernelspec": {
      "display_name": "Python 3",
      "language": "python",
      "name": "python3"
    },
    "language_info": {
      "codemirror_mode": {
        "name": "ipython",
        "version": 3
      },
      "file_extension": ".py",
      "mimetype": "text/x-python",
      "name": "python",
      "nbconvert_exporter": "python",
      "pygments_lexer": "ipython3",
      "version": "3.8.3"
    },
    "colab": {
      "name": "Copy of 8-filtering-airbnb.ipynb",
      "provenance": [],
      "include_colab_link": true
    }
  },
  "cells": [
    {
      "cell_type": "markdown",
      "metadata": {
        "id": "view-in-github",
        "colab_type": "text"
      },
      "source": [
        "<a href=\"https://colab.research.google.com/github/ludawg44/data_engineering_jigsaw_labs/blob/main/8_filtering_airbnb.ipynb\" target=\"_parent\"><img src=\"https://colab.research.google.com/assets/colab-badge.svg\" alt=\"Open In Colab\"/></a>"
      ]
    },
    {
      "cell_type": "markdown",
      "metadata": {
        "id": "bE4I9Y3VjK5R"
      },
      "source": [
        "# Filtering Airbnb"
      ]
    },
    {
      "cell_type": "markdown",
      "metadata": {
        "id": "UP-cceZ9jK5R"
      },
      "source": [
        "### Introduction"
      ]
    },
    {
      "cell_type": "markdown",
      "metadata": {
        "id": "EshjDTqajK5S"
      },
      "source": [
        "In this lesson, we'll use our knowledge of loops and filtering to work with Airbnb data in New York City. Let's get started."
      ]
    },
    {
      "cell_type": "markdown",
      "metadata": {
        "id": "ehzEcrRnjK5S"
      },
      "source": [
        "### Loading and Exploring our Data"
      ]
    },
    {
      "cell_type": "markdown",
      "metadata": {
        "id": "32vlh1hGjK5T"
      },
      "source": [
        "Let's start by loading up our data."
      ]
    },
    {
      "cell_type": "code",
      "metadata": {
        "id": "jYxah-htjK5T"
      },
      "source": [
        "import pandas as pd\n",
        "listings_df = pd.read_csv('https://raw.githubusercontent.com/jigsawlabs-student/mod-1-a-data-structures/master/3-coercing-filtering-data/AB_NYC_2019.csv')\n",
        "\n",
        "listings = listings_df.to_dict('records')"
      ],
      "execution_count": null,
      "outputs": []
    },
    {
      "cell_type": "markdown",
      "metadata": {
        "id": "lcFl53PpjK5W"
      },
      "source": [
        "Let's start by seeing the number of listings we have gathered."
      ]
    },
    {
      "cell_type": "code",
      "metadata": {
        "id": "gEAsmcVojK5X",
        "outputId": "c1c772f1-f413-4e18-aa30-eaadf952b4a8",
        "colab": {
          "base_uri": "https://localhost:8080/",
          "height": 34
        }
      },
      "source": [
        "len(listings)\n",
        "\n",
        "# 48895"
      ],
      "execution_count": null,
      "outputs": [
        {
          "output_type": "execute_result",
          "data": {
            "text/plain": [
              "48895"
            ]
          },
          "metadata": {
            "tags": []
          },
          "execution_count": 3
        }
      ]
    },
    {
      "cell_type": "markdown",
      "metadata": {
        "id": "c9HK5nAXjK5a"
      },
      "source": [
        "And now, let's see which attributes are available to us on each listing.  Look at the keys available on a single listing."
      ]
    },
    {
      "cell_type": "code",
      "metadata": {
        "id": "bUHVo55kjK5b",
        "outputId": "ce75499c-30e7-4264-d92a-6aac2e415426",
        "colab": {
          "base_uri": "https://localhost:8080/",
          "height": 54
        }
      },
      "source": [
        "listings[0].keys()\n",
        "\n",
        "# dict_keys(['id', 'name', 'host_id', 'host_name', 'neighbourhood_group', \n",
        "# 'neighbourhood', 'latitude', 'longitude', 'room_type', 'price',\n",
        "# 'minimum_nights', 'number_of_reviews', 'last_review', 'reviews_per_month', \n",
        "# 'calculated_host_listings_count', 'availability_365'])"
      ],
      "execution_count": null,
      "outputs": [
        {
          "output_type": "execute_result",
          "data": {
            "text/plain": [
              "dict_keys(['id', 'name', 'host_id', 'host_name', 'neighbourhood_group', 'neighbourhood', 'latitude', 'longitude', 'room_type', 'price', 'minimum_nights', 'number_of_reviews', 'last_review', 'reviews_per_month', 'calculated_host_listings_count', 'availability_365'])"
            ]
          },
          "metadata": {
            "tags": []
          },
          "execution_count": 4
        }
      ]
    },
    {
      "cell_type": "markdown",
      "metadata": {
        "id": "yNorP_IujK5e"
      },
      "source": [
        "Now we'll like to calculate some statistics with this data.  Before doing so, let's get a sense of how recent our data is.  "
      ]
    },
    {
      "cell_type": "markdown",
      "metadata": {
        "id": "HUE0Hr42jK5e"
      },
      "source": [
        "To start, let's select just the `last_review` value from each element.  \n",
        "> Use list comprehension to create a list of `last_reviews`, one for each listing."
      ]
    },
    {
      "cell_type": "code",
      "metadata": {
        "id": "JmNvxBGXjK5f"
      },
      "source": [
        "last_reviews = [listing['last_review'] for listing in listings]"
      ],
      "execution_count": null,
      "outputs": []
    },
    {
      "cell_type": "code",
      "metadata": {
        "id": "uG9xg2FIjK5h",
        "outputId": "827f227b-c2d5-494a-8dd7-32086faa731e",
        "colab": {
          "base_uri": "https://localhost:8080/",
          "height": 34
        }
      },
      "source": [
        "last_reviews[:5]\n",
        "\n",
        "# ['2018-10-19', '2019-05-21', nan, '2019-07-05', '2018-11-19']"
      ],
      "execution_count": null,
      "outputs": [
        {
          "output_type": "execute_result",
          "data": {
            "text/plain": [
              "['2018-10-19', '2019-05-21', nan, '2019-07-05', '2018-11-19']"
            ]
          },
          "metadata": {
            "tags": []
          },
          "execution_count": 6
        }
      ]
    },
    {
      "cell_type": "markdown",
      "metadata": {
        "id": "Nwd4s3wujK5j"
      },
      "source": [
        "We can see from the above that some of our listings have `nan` values.  \n",
        "> As we may know `nan` stands for not a number and is generally used to represent missing values.  \n",
        "\n",
        "Let's filter out the listings with last_review values of `nan`.  Removing only `nan` values can be tricky.  So here's a hint to get you started:"
      ]
    },
    {
      "cell_type": "markdown",
      "metadata": {
        "id": "nteePCicjK5k"
      },
      "source": [
        "> nan is of type `float`.  So to check if the our value is `nan` we can use something like the following."
      ]
    },
    {
      "cell_type": "code",
      "metadata": {
        "id": "h3QSbW_mjK5l",
        "outputId": "380670e0-ba57-41fe-e1b0-cf4c4a346772",
        "colab": {
          "base_uri": "https://localhost:8080/",
          "height": 34
        }
      },
      "source": [
        "type(last_reviews[0]) == float"
      ],
      "execution_count": null,
      "outputs": [
        {
          "output_type": "execute_result",
          "data": {
            "text/plain": [
              "False"
            ]
          },
          "metadata": {
            "tags": []
          },
          "execution_count": 7
        }
      ]
    },
    {
      "cell_type": "code",
      "metadata": {
        "id": "e82xTTfnjK5n",
        "outputId": "277ed167-a986-4432-b6bb-0b1518b69ddb",
        "colab": {
          "base_uri": "https://localhost:8080/",
          "height": 34
        }
      },
      "source": [
        "type(last_reviews[2]) == float"
      ],
      "execution_count": null,
      "outputs": [
        {
          "output_type": "execute_result",
          "data": {
            "text/plain": [
              "True"
            ]
          },
          "metadata": {
            "tags": []
          },
          "execution_count": 8
        }
      ]
    },
    {
      "cell_type": "code",
      "metadata": {
        "id": "tLYKmDFgjK5p",
        "outputId": "5597dc4f-0c09-4562-e38b-56d75a7d24c0",
        "colab": {
          "base_uri": "https://localhost:8080/",
          "height": 34
        }
      },
      "source": [
        "last_reviews[0], last_reviews[2]\n",
        "# ('2018-10-19', nan)"
      ],
      "execution_count": null,
      "outputs": [
        {
          "output_type": "execute_result",
          "data": {
            "text/plain": [
              "('2018-10-19', nan)"
            ]
          },
          "metadata": {
            "tags": []
          },
          "execution_count": 9
        }
      ]
    },
    {
      "cell_type": "markdown",
      "metadata": {
        "id": "TESbeHG5jK5s"
      },
      "source": [
        "Now, use what you learned from above to select *listings* that do not have a `last_review` value of nan."
      ]
    },
    {
      "cell_type": "code",
      "metadata": {
        "id": "O0C8tgjHjK5s"
      },
      "source": [
        "# type(last_reviews[0]) == float\n",
        "\n",
        "listings_not_nan = [listing for listing in listings if type(listing['last_review']) != float]"
      ],
      "execution_count": null,
      "outputs": []
    },
    {
      "cell_type": "code",
      "metadata": {
        "id": "OPTzE9qDjK5u",
        "outputId": "2345d305-2779-46d5-c568-20cf91d65529",
        "colab": {
          "base_uri": "https://localhost:8080/",
          "height": 34
        }
      },
      "source": [
        "len(listings_not_nan)\n",
        "\n",
        "# 38843"
      ],
      "execution_count": null,
      "outputs": [
        {
          "output_type": "execute_result",
          "data": {
            "text/plain": [
              "38843"
            ]
          },
          "metadata": {
            "tags": []
          },
          "execution_count": 17
        }
      ]
    },
    {
      "cell_type": "markdown",
      "metadata": {
        "id": "e4rTpg4PjK5x"
      },
      "source": [
        "Calculate the percentage of listings we have left."
      ]
    },
    {
      "cell_type": "code",
      "metadata": {
        "id": "0-_I-Kf2jK5x",
        "outputId": "73f553d3-f55b-4e9a-cd98-7fc98e611dd5",
        "colab": {
          "base_uri": "https://localhost:8080/",
          "height": 34
        }
      },
      "source": [
        "len(listings_not_nan)/ len(listings)\n",
        "\n",
        "# 0.7944166070150323"
      ],
      "execution_count": null,
      "outputs": [
        {
          "output_type": "execute_result",
          "data": {
            "text/plain": [
              "0.7944166070150323"
            ]
          },
          "metadata": {
            "tags": []
          },
          "execution_count": 15
        }
      ]
    },
    {
      "cell_type": "markdown",
      "metadata": {
        "id": "xyd59-hEjK50"
      },
      "source": [
        "Ok, not amazing, but not bad."
      ]
    },
    {
      "cell_type": "markdown",
      "metadata": {
        "id": "o4KUapiZjK50"
      },
      "source": [
        "### Back on Track"
      ]
    },
    {
      "cell_type": "markdown",
      "metadata": {
        "id": "kltWtOMDjK51"
      },
      "source": [
        "Now that we've removed our listings with a last_review of nan, let's make sure that we are working with relatively recent reviews."
      ]
    },
    {
      "cell_type": "markdown",
      "metadata": {
        "id": "g1ZYZQm-jK51"
      },
      "source": [
        "Our first step is to change the first `last_review` value from to a Python string to a datetime object.\n",
        "\n",
        "> Let's practice this on a single element first."
      ]
    },
    {
      "cell_type": "markdown",
      "metadata": {
        "id": "AZqRXzoEjK52"
      },
      "source": [
        "> See [this post](https://chrisalbon.com/python/basics/strings_to_datetime/) for coercing data to a datetime to do so."
      ]
    },
    {
      "cell_type": "code",
      "metadata": {
        "id": "vamh0m6mjK52"
      },
      "source": [
        "first_listing = listings[0]"
      ],
      "execution_count": null,
      "outputs": []
    },
    {
      "cell_type": "code",
      "metadata": {
        "id": "opahE07ijK54"
      },
      "source": [
        "last_review = first_listing['last_review']"
      ],
      "execution_count": null,
      "outputs": []
    },
    {
      "cell_type": "code",
      "metadata": {
        "id": "MJuk_bnRjK57"
      },
      "source": [
        "from datetime import datetime\n",
        "\n",
        "last_review_datetime = datetime.strptime(last_review, '%Y-%m-%d')"
      ],
      "execution_count": null,
      "outputs": []
    },
    {
      "cell_type": "code",
      "metadata": {
        "id": "rZSFhqGhjK59",
        "outputId": "6677b66b-2f53-43f0-91f7-ce77f8ce8820",
        "colab": {
          "base_uri": "https://localhost:8080/",
          "height": 34
        }
      },
      "source": [
        "last_review_datetime.year, last_review_datetime.month "
      ],
      "execution_count": null,
      "outputs": [
        {
          "output_type": "execute_result",
          "data": {
            "text/plain": [
              "(2018, 10)"
            ]
          },
          "metadata": {
            "tags": []
          },
          "execution_count": 28
        }
      ]
    },
    {
      "cell_type": "code",
      "metadata": {
        "id": "K-x1x9V-jK6A"
      },
      "source": [
        "listings_not_nan_copied = listings_not_nan.copy()"
      ],
      "execution_count": null,
      "outputs": []
    },
    {
      "cell_type": "markdown",
      "metadata": {
        "id": "aLR84SxGjK6C"
      },
      "source": [
        "> Now iterate through the copy of `listings_not_nan_copied` and change each `last_review` to a datetime."
      ]
    },
    {
      "cell_type": "code",
      "metadata": {
        "id": "qfZZCx1Eoo0-",
        "outputId": "51835c0f-e8de-4135-8e65-f0eac3415f0e",
        "colab": {
          "base_uri": "https://localhost:8080/",
          "height": 823
        }
      },
      "source": [
        "listings_not_nan_copied[:3]"
      ],
      "execution_count": null,
      "outputs": [
        {
          "output_type": "execute_result",
          "data": {
            "text/plain": [
              "[{'availability_365': 365,\n",
              "  'calculated_host_listings_count': 6,\n",
              "  'host_id': 2787,\n",
              "  'host_name': 'John',\n",
              "  'id': 2539,\n",
              "  'last_review': '2018-10-19',\n",
              "  'latitude': 40.647490000000005,\n",
              "  'longitude': -73.97237,\n",
              "  'minimum_nights': 1,\n",
              "  'name': 'Clean & quiet apt home by the park',\n",
              "  'neighbourhood': 'Kensington',\n",
              "  'neighbourhood_group': 'Brooklyn',\n",
              "  'number_of_reviews': 9,\n",
              "  'price': 149,\n",
              "  'reviews_per_month': 0.21,\n",
              "  'room_type': 'Private room'},\n",
              " {'availability_365': 355,\n",
              "  'calculated_host_listings_count': 2,\n",
              "  'host_id': 2845,\n",
              "  'host_name': 'Jennifer',\n",
              "  'id': 2595,\n",
              "  'last_review': '2019-05-21',\n",
              "  'latitude': 40.75362,\n",
              "  'longitude': -73.98376999999999,\n",
              "  'minimum_nights': 1,\n",
              "  'name': 'Skylit Midtown Castle',\n",
              "  'neighbourhood': 'Midtown',\n",
              "  'neighbourhood_group': 'Manhattan',\n",
              "  'number_of_reviews': 45,\n",
              "  'price': 225,\n",
              "  'reviews_per_month': 0.38,\n",
              "  'room_type': 'Entire home/apt'},\n",
              " {'availability_365': 194,\n",
              "  'calculated_host_listings_count': 1,\n",
              "  'host_id': 4869,\n",
              "  'host_name': 'LisaRoxanne',\n",
              "  'id': 3831,\n",
              "  'last_review': '2019-07-05',\n",
              "  'latitude': 40.685140000000004,\n",
              "  'longitude': -73.95976,\n",
              "  'minimum_nights': 1,\n",
              "  'name': 'Cozy Entire Floor of Brownstone',\n",
              "  'neighbourhood': 'Clinton Hill',\n",
              "  'neighbourhood_group': 'Brooklyn',\n",
              "  'number_of_reviews': 270,\n",
              "  'price': 89,\n",
              "  'reviews_per_month': 4.64,\n",
              "  'room_type': 'Entire home/apt'}]"
            ]
          },
          "metadata": {
            "tags": []
          },
          "execution_count": 36
        }
      ]
    },
    {
      "cell_type": "code",
      "metadata": {
        "id": "W0JdS1mqjK6D"
      },
      "source": [
        "# write code here to change the dictionaries in listings_not_nan_copied\n",
        "\n",
        "for listing in listings_not_nan_copied: \n",
        "  listing['last_review'] = datetime.strptime(listing['last_review'], '%Y-%m-%d')"
      ],
      "execution_count": null,
      "outputs": []
    },
    {
      "cell_type": "markdown",
      "metadata": {
        "id": "wfdnFlFKjK6F"
      },
      "source": [
        "> We can check that each `last_review` is now a datetime object."
      ]
    },
    {
      "cell_type": "code",
      "metadata": {
        "id": "nlPWDT_sjK6G",
        "outputId": "04983996-efff-4ef3-ec10-dd5d274523c8",
        "colab": {
          "base_uri": "https://localhost:8080/",
          "height": 34
        }
      },
      "source": [
        "updated_last_reviews = [listing['last_review'] \n",
        "                        for listing in listings_not_nan_copied]\n",
        "\n",
        "updated_last_reviews[:2]\n",
        "\n",
        "# [datetime.datetime(2018, 10, 19, 0, 0), datetime.datetime(2019, 5, 21, 0, 0)]"
      ],
      "execution_count": null,
      "outputs": [
        {
          "output_type": "execute_result",
          "data": {
            "text/plain": [
              "[datetime.datetime(2018, 10, 19, 0, 0), datetime.datetime(2019, 5, 21, 0, 0)]"
            ]
          },
          "metadata": {
            "tags": []
          },
          "execution_count": 41
        }
      ]
    },
    {
      "cell_type": "markdown",
      "metadata": {
        "id": "UJhgKgOgjK6I"
      },
      "source": [
        "Ok, now find the listing with the oldest last_review, and then we'll find the listing with the most recent last review."
      ]
    },
    {
      "cell_type": "code",
      "metadata": {
        "id": "3vbx_nWbjK6I"
      },
      "source": [
        "earliest_listing = sorted(listings_not_nan_copied, key = lambda last_review : last_review['last_review'])\n",
        "\n",
        "#listings_not_nan_copied[0]['last_review']"
      ],
      "execution_count": null,
      "outputs": []
    },
    {
      "cell_type": "code",
      "metadata": {
        "id": "G3FGALWMtZZQ",
        "outputId": "ce6f5740-483e-4a6d-83d0-53d1d9b7840f",
        "colab": {
          "base_uri": "https://localhost:8080/",
          "height": 286
        }
      },
      "source": [
        "earliest_listing[-1]"
      ],
      "execution_count": null,
      "outputs": [
        {
          "output_type": "execute_result",
          "data": {
            "text/plain": [
              "{'availability_365': 1,\n",
              " 'calculated_host_listings_count': 1,\n",
              " 'host_id': 74162901,\n",
              " 'host_name': 'Christine',\n",
              " 'id': 36455809,\n",
              " 'last_review': datetime.datetime(2019, 7, 8, 0, 0),\n",
              " 'latitude': 40.69805,\n",
              " 'longitude': -73.92801,\n",
              " 'minimum_nights': 1,\n",
              " 'name': 'Cozy Private Room in Bushwick, Brooklyn',\n",
              " 'neighbourhood': 'Bushwick',\n",
              " 'neighbourhood_group': 'Brooklyn',\n",
              " 'number_of_reviews': 1,\n",
              " 'price': 30,\n",
              " 'reviews_per_month': 1.0,\n",
              " 'room_type': 'Private room'}"
            ]
          },
          "metadata": {
            "tags": []
          },
          "execution_count": 49
        }
      ]
    },
    {
      "cell_type": "code",
      "metadata": {
        "id": "d83LjhlpjK6K",
        "outputId": "f47a00b5-cfd8-49e8-f370-8bba1e0e65ff",
        "colab": {
          "base_uri": "https://localhost:8080/",
          "height": 34
        }
      },
      "source": [
        "earliest_listing[0]['last_review']\n",
        "\n",
        "# datetime.datetime(2011, 3, 28, 0, 0)"
      ],
      "execution_count": null,
      "outputs": [
        {
          "output_type": "execute_result",
          "data": {
            "text/plain": [
              "datetime.datetime(2011, 3, 28, 0, 0)"
            ]
          },
          "metadata": {
            "tags": []
          },
          "execution_count": 50
        }
      ]
    },
    {
      "cell_type": "code",
      "metadata": {
        "id": "LCzjkehmjK6N"
      },
      "source": [
        "latest_listing = sorted(listings_not_nan_copied, key = lambda last_review : last_review['last_review'], reverse = True)\n",
        "\n"
      ],
      "execution_count": null,
      "outputs": []
    },
    {
      "cell_type": "code",
      "metadata": {
        "id": "1rGNRR-ajK6P",
        "outputId": "09aa52f0-481d-4ab5-8e3f-e6c2b799ec16",
        "colab": {
          "base_uri": "https://localhost:8080/",
          "height": 34
        }
      },
      "source": [
        "latest_listing[0]['last_review']\n",
        "# datetime.datetime(2019, 7, 8, 0, 0)"
      ],
      "execution_count": null,
      "outputs": [
        {
          "output_type": "execute_result",
          "data": {
            "text/plain": [
              "datetime.datetime(2019, 7, 8, 0, 0)"
            ]
          },
          "metadata": {
            "tags": []
          },
          "execution_count": 55
        }
      ]
    },
    {
      "cell_type": "markdown",
      "metadata": {
        "id": "cqHgMNKcjK6R"
      },
      "source": [
        "So we can see that our data ranges from 2011 to July 2019.  Let's limit our data so that we only are working with data from July 2017 to July 2019."
      ]
    },
    {
      "cell_type": "code",
      "metadata": {
        "id": "aYsCO07BjK6S"
      },
      "source": [
        "recent_listings = [listing for listing in earliest_listing if listing['last_review'] >= datetime(2017, 7, 1, 0, 0)]"
      ],
      "execution_count": null,
      "outputs": []
    },
    {
      "cell_type": "code",
      "metadata": {
        "id": "_L4zJHKjjK6U",
        "outputId": "86adddb7-9174-4044-9de6-fb3f45f7e936",
        "colab": {
          "base_uri": "https://localhost:8080/",
          "height": 34
        }
      },
      "source": [
        "len(recent_listings)\n",
        "\n",
        "# 10774"
      ],
      "execution_count": null,
      "outputs": [
        {
          "output_type": "execute_result",
          "data": {
            "text/plain": [
              "33259"
            ]
          },
          "metadata": {
            "tags": []
          },
          "execution_count": 94
        }
      ]
    },
    {
      "cell_type": "markdown",
      "metadata": {
        "id": "4fx_MqWljK6W"
      },
      "source": [
        "So now we have about 11000 recent listings."
      ]
    },
    {
      "cell_type": "markdown",
      "metadata": {
        "id": "AbrvlBqFjK6W"
      },
      "source": [
        "### Listings by Neighborhood"
      ]
    },
    {
      "cell_type": "markdown",
      "metadata": {
        "id": "kTvPZxq1jK6X"
      },
      "source": [
        "Let's getter a better sense of some of these recent listings.  Begin by creating a list of each `neighbourhood_group` of our recent listings."
      ]
    },
    {
      "cell_type": "code",
      "metadata": {
        "id": "r0iQa7CvjK6X",
        "outputId": "4adb4229-1307-47cd-86b1-d75f677f34bd",
        "colab": {
          "base_uri": "https://localhost:8080/",
          "height": 34
        }
      },
      "source": [
        "# write code here\n",
        "set([listing['neighbourhood_group'] for listing in recent_listings])\n",
        "\n",
        "# ['Queens', 'Brooklyn', 'Bronx', 'Manhattan', 'Staten Island']"
      ],
      "execution_count": null,
      "outputs": [
        {
          "output_type": "execute_result",
          "data": {
            "text/plain": [
              "{'Bronx', 'Brooklyn', 'Manhattan', 'Queens', 'Staten Island'}"
            ]
          },
          "metadata": {
            "tags": []
          },
          "execution_count": 97
        }
      ]
    },
    {
      "cell_type": "markdown",
      "metadata": {
        "id": "WbwkzKgOjK6a"
      },
      "source": [
        "Ok, so it looks like the five boroughs.  Now let's find the number `recent_listings` in Manhattan that were less than or equal to 50 dollars."
      ]
    },
    {
      "cell_type": "code",
      "metadata": {
        "id": "7Z1deO9AjK6a"
      },
      "source": [
        "cheaper_manhattan_listings = [listing for listing in recent_listings \n",
        "                              if listing['neighbourhood_group'] == 'Manhattan' and listing['price'] <= 50]"
      ],
      "execution_count": null,
      "outputs": []
    },
    {
      "cell_type": "code",
      "metadata": {
        "id": "UtN4LzG2jK6d",
        "outputId": "01060259-18a0-4e73-b2c9-766e1ce20bd4",
        "colab": {
          "base_uri": "https://localhost:8080/",
          "height": 34
        }
      },
      "source": [
        "len(cheaper_manhattan_listings)\n",
        "\n",
        "# 215"
      ],
      "execution_count": null,
      "outputs": [
        {
          "output_type": "execute_result",
          "data": {
            "text/plain": [
              "640"
            ]
          },
          "metadata": {
            "tags": []
          },
          "execution_count": 102
        }
      ]
    },
    {
      "cell_type": "markdown",
      "metadata": {
        "id": "wrfkFKKgjK6f"
      },
      "source": [
        "### Summary"
      ]
    },
    {
      "cell_type": "markdown",
      "metadata": {
        "id": "VW-96kOGjK6g"
      },
      "source": [
        "In this lesson, we saw how to use filtering to reduce our dataset down to higher quality data and to then query our data.  We also worked to remove `nan` values by looking to see if the datatype of our data was a float.  As an alternative, we could have also used the function from the math library."
      ]
    },
    {
      "cell_type": "code",
      "metadata": {
        "id": "nZTrEH9NjK6g",
        "outputId": "874a947e-2dc4-44d5-c66e-cecd6f2c9ed8"
      },
      "source": [
        "import math\n",
        "import numpy as np\n",
        "\n",
        "math.isnan(np.nan)"
      ],
      "execution_count": null,
      "outputs": [
        {
          "output_type": "execute_result",
          "data": {
            "text/plain": [
              "True"
            ]
          },
          "metadata": {
            "tags": []
          },
          "execution_count": 139
        }
      ]
    }
  ]
}